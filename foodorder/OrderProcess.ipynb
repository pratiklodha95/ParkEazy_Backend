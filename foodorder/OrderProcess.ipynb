{
 "cells": [
  {
   "cell_type": "code",
   "execution_count": 23,
   "metadata": {
    "colab": {
     "base_uri": "https://localhost:8080/",
     "height": 37,
     "resources": {
      "http://localhost:8080/nbextensions/google.colab/files.js": {
       "data": "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",
       "headers": [
        [
         "content-type",
         "application/javascript"
        ]
       ],
       "ok": true,
       "status": 200,
       "status_text": "OK"
      }
     }
    },
    "colab_type": "code",
    "id": "BMD3j2wVWKd3",
    "outputId": "41914a14-e1ac-4402-8490-035751e34ede"
   },
   "outputs": [
    {
     "data": {
      "text/plain": [
       "'\\nfrom google.colab import files\\nuploaded = files.upload()\\n'"
      ]
     },
     "execution_count": 23,
     "metadata": {},
     "output_type": "execute_result"
    }
   ],
   "source": [
    "'''\n",
    "from google.colab import files\n",
    "uploaded = files.upload()\n",
    "'''\n"
   ]
  },
  {
   "cell_type": "code",
   "execution_count": 80,
   "metadata": {
    "colab": {},
    "colab_type": "code",
    "id": "1PE_xO7aWOy3"
   },
   "outputs": [],
   "source": [
    "import csv\n",
    "import re\n",
    "\n",
    "flavour_dict = {}\n",
    "reversed_flavour_dict = {}\n",
    "\n",
    "with open('item-flavors.csv', newline='') as csvfile:\n",
    "    spamreader = csv.reader(csvfile, delimiter=',')\n",
    "    count = 0\n",
    "    for row in spamreader:\n",
    "        flavour_dict['flavour' + str(count)] = [x.strip().lower() for x in row]   \n",
    "        flavour_dict['flavour' + str(count)].append('flavour' + str(count))\n",
    "        count+=1\n",
    "        \n",
    "for k,v in flavour_dict.items():\n",
    "    for flav in v:\n",
    "        reversed_flavour_dict[flav] = k\n",
    "        \n",
    "size_dict = {}\n",
    "reversed_size_dict = {}\n",
    "\n",
    "with open('item-size.csv', newline='') as csvfile:\n",
    "    spamreader = csv.reader(csvfile, delimiter=',')  \n",
    "    count = 0\n",
    "    for row in spamreader:\n",
    "        size_dict['size' + str(count)] = [x for x in row]\n",
    "        size_dict['size' + str(count)].append('size' + str(count))\n",
    "        count+=1\n",
    "\n",
    "for k,v in size_dict.items():\n",
    "    for size in v:\n",
    "        reversed_size_dict[size] = k\n",
    "\n",
    "qty_dict = {'a':1,'one':1,'two':2,'three':3,'four':4,'five':5,'six':6,'seven':7,'eight':8,'nine':9,\n",
    "           'ten':10}\n",
    "quantifiers = {'all':1,'both':2}\n",
    "action_words = {'make': 0}"
   ]
  },
  {
   "cell_type": "code",
   "execution_count": 145,
   "metadata": {
    "colab": {},
    "colab_type": "code",
    "id": "2XibeP-LWyPj"
   },
   "outputs": [],
   "source": [
    "def gen_order(ord_l, flavour_l = None):\n",
    "    is_success = 0\n",
    "    size_l = []\n",
    "    if flavour_l is None:\n",
    "        flavour_l = []\n",
    "    qty_l = []\n",
    "    all_flavours = []\n",
    "    ord_dict = {}\n",
    "    iter = 0\n",
    "    for word in ord_l:\n",
    "        if word in reversed_flavour_dict:\n",
    "            all_flavours.append(word)\n",
    "    while(iter<len(ord_l)):        \n",
    "        word = ord_l[iter]\n",
    "        if word in reversed_flavour_dict:\n",
    "            flavour_l.append(word)\n",
    "        elif word in reversed_size_dict:\n",
    "            size_l.append(word)\n",
    "        elif word in qty_dict:\n",
    "            qty_l.append(word)\n",
    "        elif word in quantifiers:\n",
    "            if word == 'both':\n",
    "                next_word = ord_l[iter+1]\n",
    "                if next_word in reversed_size_dict:\n",
    "                    for i in range(quantifiers['both']):\n",
    "                        size_l.append(next_word)\n",
    "                    iter+=1\n",
    "                elif len(size_l)*len(qty_l) == 1 and len(flavour_l) == 0:\n",
    "                    if next_word in reversed_flavour_dict:\n",
    "                        next_next_word = ord_l[iter+2]\n",
    "                        if next_next_word in reversed_flavour_dict:\n",
    "                            flavour_l.append(next_word)\n",
    "                            flavour_l.append(next_next_word)\n",
    "                            size_l.append(size_l[0])\n",
    "                            qty_l.append(qty_l[0])\n",
    "                            iter+=2\n",
    "            if word == 'all':\n",
    "                next_word = ord_l[iter+1]\n",
    "                if next_word in qty_dict:\n",
    "                    next_next_word = ord_l[iter+1]\n",
    "                    if next_next_word in reversed_size_dict:\n",
    "                        for i in range(qty_dict[next_word]):\n",
    "                            size_l.append(next_next_word)\n",
    "                        iter+=2\n",
    "                elif next_word in size_dict:\n",
    "                    if len(flavour_l)!= len(qty_l):\n",
    "                        print(\"Sorry I didn't get you, please try again.\")\n",
    "                        return all_flavours, 0\n",
    "                        break\n",
    "                    else:\n",
    "                        for i in range(len(flavour_l)):\n",
    "                            size_l.append(next_word)\n",
    "                        iter+=1\n",
    "        elif word in action_words:\n",
    "            if word == 'make':\n",
    "                count = 0\n",
    "                no_active_flavours = len(flavour_l)                   \n",
    "                active_index = -1\n",
    "                for subword in ord_l[iter+1:]:\n",
    "                    if subword in reversed_flavour_dict:\n",
    "                        active_index = flavour_l.index(subword)\n",
    "                        flavour_l[0], flavour_l[active_index] =  flavour_l[active_index], flavour_l[0]\n",
    "                        if len(size_l) > active_index:\n",
    "                            size_l[0], size_l[active_index] = size_l[active_index], size_l[0]\n",
    "                        if len(qty_l) > active_index:\n",
    "                            qty_l[0], qty_l[active_index] = qty_l[active_index], qty_l[0]\n",
    "                        active_index = 0\n",
    "                    elif subword in reversed_size_dict:\n",
    "                        size_l.append(subword)\n",
    "                    elif subword in qty_dict:\n",
    "                        qty_l.append(subword)\n",
    "                    while (len(size_l)*len(flavour_l)*len(qty_l)!= 0):\n",
    "                        ord_dict[len(ord_dict)] = [flavour_l[0], size_l[0], qty_l[0]]\n",
    "                        size_l.pop(active_index)\n",
    "                        flavour_l.pop(active_index)\n",
    "                        qty_l.pop(active_index)\n",
    "                        active_index = -1\n",
    "                    \n",
    "                    iter+=1\n",
    "                        \n",
    "                                                                        \n",
    "        while (len(size_l)*len(flavour_l)*len(qty_l)!= 0):\n",
    "            ord_dict[len(ord_dict)] = [flavour_l[0], size_l[0], qty_l[0]]\n",
    "            size_l.pop(0)\n",
    "            flavour_l.pop(0)\n",
    "            qty_l.pop(0)\n",
    "            \n",
    "        iter+=1\n",
    "    if (len(size_l) + len(flavour_l) + len(qty_l)!= 0):\n",
    "      return all_flavours, 0\n",
    "    else:\n",
    "        return ord_dict, 1\n",
    "        \n",
    "        \n",
    "        \n",
    "def string_preprocess(ord_s):\n",
    "    \n",
    "    ord_s = ord_s.strip().lower()\n",
    "    for k,v in reversed_size_dict.items():\n",
    "        ord_s = ord_s.replace(k,v)\n",
    "    \n",
    "    for k,v in reversed_flavour_dict.items():\n",
    "        ord_s = ord_s.replace(k,v)\n",
    "    ord_s = re.sub(r'[^\\w\\s]','',ord_s)  #Remove Punctuation\n",
    "\n",
    "    ord_l = ord_s.split(\" \")\n",
    "    ord_temp = []\n",
    "    for word in ord_l:\n",
    "        if (word in reversed_flavour_dict or word in reversed_size_dict or word in qty_dict or \n",
    "            word in quantifiers or word in action_words):\n",
    "            ord_temp.append(word)\n",
    "    \n",
    "    return ord_temp\n",
    "\n",
    "def prettify_order(order_dict:dict):\n",
    "    for order in order_dict:\n",
    "        order_dict[order][0] = flavour_dict[order_dict[order][0]][0]\n",
    "        order_dict[order][1] = size_dict[order_dict[order][1]][0]\n",
    "    return order_dict\n",
    "\n",
    "\n",
    "    \n",
    "    \n",
    "def reask(flavour_l):\n",
    "    print(\"We've detected you've asked for \" + \" ,\".join([reversed_flavour_dict[flavour] for flavour in flavour_l])+\n",
    "                                                        \" flavours\")\n",
    "    print(\"Could you please specify the size and quantities\")\n",
    "    ord_s = \"Two Medium and One small\"\n",
    "    ord_l = string_preprocess(ord_s)\n",
    "    ord_dict, is_success = gen_order(ord_l, flavour_l)\n",
    "    if (is_success):\n",
    "        return ord_dict, is_success\n",
    "    else:\n",
    "        return {}, 0\n",
    "        \n",
    "    \n",
    "    \n",
    "    "
   ]
  },
  {
   "cell_type": "code",
   "execution_count": 148,
   "metadata": {
    "colab": {},
    "colab_type": "code",
    "id": "zykTNoB2W56n"
   },
   "outputs": [],
   "source": [
    "def main():\n",
    "    ord_s = \"Mango two and anjeer three both small\"\n",
    "    ord_l = string_preprocess(ord_s)\n",
    "    ord_dict, is_success = gen_order(ord_l, None)\n",
    "    \n",
    "    if is_success:\n",
    "        print(prettify_order(ord_dict))\n",
    "    else:\n",
    "        ord_dict, is_success = reask(list(set(ord_dict)))\n",
    "        if is_success:\n",
    "            print(prettify_order(ord_dict))\n",
    "        else:\n",
    "            print(\"Sorry we couldn't understand your order\")\n",
    "    "
   ]
  },
  {
   "cell_type": "code",
   "execution_count": 149,
   "metadata": {
    "colab": {},
    "colab_type": "code",
    "id": "HcZMXaONXKlc"
   },
   "outputs": [
    {
     "data": {
      "text/plain": [
       "'\\n\\nCases that can be handled so far\\n\\nI want one mango and one anjeer both small\\nI want one mango and one anjeer, all small and one large fruit\\nI want one mango medium and one anjeer large\\nI want one small mango, one anjeer and one fruit both small and one small malai\\nMango two and anjeer three both small\\nTwo mango and one anjeer, make mango large but anjeer small\\n\\n'"
      ]
     },
     "execution_count": 149,
     "metadata": {},
     "output_type": "execute_result"
    }
   ],
   "source": [
    "'''\n",
    "\n",
    "Cases that can be handled so far\n",
    "\n",
    "I want one mango and one anjeer both small\n",
    "I want one mango and one anjeer, all small and one large fruit\n",
    "I want one mango medium and one anjeer large\n",
    "I want one small mango, one anjeer and one fruit both small and one small malai\n",
    "Mango two and anjeer three both small\n",
    "Two mango and one anjeer, make mango large but anjeer small\n",
    "Two mango and one anjeer, make anjeer large but mango small\n",
    "\n",
    "'''"
   ]
  },
  {
   "cell_type": "code",
   "execution_count": 150,
   "metadata": {
    "colab": {
     "base_uri": "https://localhost:8080/",
     "height": 34
    },
    "colab_type": "code",
    "id": "m1JPz0MWW89s",
    "outputId": "db9e89a2-d27c-4f36-8e63-35b57ba3b3b2"
   },
   "outputs": [
    {
     "name": "stdout",
     "output_type": "stream",
     "text": [
      "{0: ['mango', 'single scoop', 'two'], 1: ['anjeer', 'single scoop', 'three']}\n"
     ]
    }
   ],
   "source": [
    "main()"
   ]
  },
  {
   "cell_type": "code",
   "execution_count": null,
   "metadata": {
    "colab": {},
    "colab_type": "code",
    "id": "TiTaKFU0W_Rg"
   },
   "outputs": [],
   "source": []
  },
  {
   "cell_type": "code",
   "execution_count": null,
   "metadata": {},
   "outputs": [],
   "source": []
  }
 ],
 "metadata": {
  "colab": {
   "collapsed_sections": [],
   "name": "OrderProcess",
   "provenance": [],
   "version": "0.3.2"
  },
  "kernelspec": {
   "display_name": "Python 3",
   "language": "python",
   "name": "python3"
  },
  "language_info": {
   "codemirror_mode": {
    "name": "ipython",
    "version": 3
   },
   "file_extension": ".py",
   "mimetype": "text/x-python",
   "name": "python",
   "nbconvert_exporter": "python",
   "pygments_lexer": "ipython3",
   "version": "3.7.3"
  }
 },
 "nbformat": 4,
 "nbformat_minor": 1
}
