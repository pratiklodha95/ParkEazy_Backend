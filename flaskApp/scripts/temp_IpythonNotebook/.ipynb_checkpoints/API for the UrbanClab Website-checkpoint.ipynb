{
 "cells": [
  {
   "cell_type": "code",
   "execution_count": 25,
   "metadata": {
    "collapsed": true
   },
   "outputs": [],
   "source": [
    "import requests"
   ]
  },
  {
   "cell_type": "code",
   "execution_count": 28,
   "metadata": {
    "collapsed": true
   },
   "outputs": [],
   "source": [
    "URL_TEMPLATE = \"https://www.urbanclap.com/api/v1/customercategories/search/category/city_{0}_v2/a\""
   ]
  },
  {
   "cell_type": "code",
   "execution_count": 5,
   "metadata": {
    "collapsed": true
   },
   "outputs": [],
   "source": [
    "#cities = [\"Ahmedabad\",\"Bangalore\",\"Chennai\",\"Delhi NCR\",\"Chandigarh Tricity\",\"Jaipur\",\"Dubai\",\"Abu Dhabi\",\"Hyderabad\",\"Kolkata\",\"Mumbai\",\"Pune\"]\n",
    "# location_info = []\n",
    "# for city in cities:\n",
    "#     location_info.append({\"name\":city,\"value\":city.lower()})"
   ]
  },
  {
   "cell_type": "code",
   "execution_count": 5,
   "metadata": {
    "collapsed": false
   },
   "outputs": [],
   "source": [
    "location_info=[{'name': 'Ahmedabad', 'value': 'ahmedabad'},\n",
    " {'name': 'Bangalore', 'value': 'bangalore'},\n",
    " {'name': 'Chennai', 'value': 'chennai'},\n",
    " {'name': 'Delhi NCR', 'value': 'delhi'},\n",
    " {'name': 'Chandigarh Tricity', 'value': 'chandigarh'},\n",
    " {'name': 'Jaipur', 'value': 'jaipur'},\n",
    " {'name': 'Dubai', 'value': 'dubai'},\n",
    " {'name': 'Abu Dhabi', 'value': 'abudhabi'},\n",
    " {'name': 'Hyderabad', 'value': 'hyderabad'},\n",
    " {'name': 'Kolkata', 'value': 'kolkata'},\n",
    " {'name': 'Mumbai', 'value': 'mumbai'},\n",
    " {'name': 'Pune', 'value': 'pune'}]"
   ]
  },
  {
   "cell_type": "code",
   "execution_count": 34,
   "metadata": {
    "collapsed": false
   },
   "outputs": [
    {
     "name": "stdout",
     "output_type": "stream",
     "text": [
      "ahmedabad\n",
      "bangalore\n",
      "chennai\n",
      "delhi-ncr\n",
      "chandigarh\n",
      "jaipur\n",
      "dubai\n",
      "abudhabi\n",
      "hyderabad\n",
      "kolkata\n",
      "mumbai\n",
      "pune\n",
      "finished\n"
     ]
    }
   ],
   "source": [
    "response = []\n",
    "for location in location_info:\n",
    "    URL = URL_TEMPLATE.format(location['value'])\n",
    "    try:\n",
    "        r = requests.get(url = URL)\n",
    "        print(location['value'])\n",
    "    finally:\n",
    "        response.append(r.json())\n",
    "print(\"finished\")"
   ]
  },
  {
   "cell_type": "code",
   "execution_count": 51,
   "metadata": {
    "collapsed": false
   },
   "outputs": [],
   "source": [
    "data = [res['success']['data'] for res in response]\n",
    "serv = []\n",
    "for d in data:\n",
    "    serv.extend([x['display_name'] for x in d])"
   ]
  },
  {
   "cell_type": "code",
   "execution_count": 54,
   "metadata": {
    "collapsed": false
   },
   "outputs": [],
   "source": [
    "serv = set(serv)"
   ]
  },
  {
   "cell_type": "code",
   "execution_count": 61,
   "metadata": {
    "collapsed": false,
    "scrolled": true
   },
   "outputs": [
    {
     "name": "stdout",
     "output_type": "stream",
     "text": [
      "\"iPhone Apple Repair\",\"iPhone Apple Repair\"\n",
      "\"Yoga Trainer at Home\",\"Yoga Trainer at Home\"\n",
      "\"Bathroom Deep Cleaning\",\"Bathroom Deep Cleaning\"\n",
      "\"CCTV Cameras and Installation\",\"CCTV Cameras and Installation\"\n",
      "\"Maternity Photographer\",\"Maternity Photographer\"\n",
      "\"Makeup and Hairstyling\",\"Makeup and Hairstyling\"\n",
      "\"Carpenters\",\"Carpenters\"\n",
      "\"Massage for Men\",\"Massage for Men\"\n",
      "\"RO or Water Purifier Repair\",\"RO or Water Purifier Repair\"\n",
      "\"Airtel Broadband Services\",\"Airtel Broadband Services\"\n",
      "\"Home Deep Cleaning\",\"Home Deep Cleaning\"\n",
      "\"Mobile and Tablet Repair\",\"Mobile and Tablet Repair\"\n",
      "\"Dry Cleaning Laundry\",\"Dry Cleaning Laundry\"\n",
      "\"Packers & Movers\",\"Packers & Movers\"\n",
      "\"CA for Tax Registration\",\"CA for Tax Registration\"\n",
      "\"Chartered Accountant\",\"Chartered Accountant\"\n",
      "\"IKEA Furniture Assembly\",\"IKEA Furniture Assembly\"\n",
      "\"Lawyer\",\"Lawyer\"\n",
      "\"Television Repair & Installation\",\"Television Repair & Installation\"\n",
      "\"CA for Small Business\",\"CA for Small Business\"\n",
      "\"CA CS for Company Registration\",\"CA CS for Company Registration\"\n",
      "\"Microwave Repair\",\"Microwave Repair\"\n",
      "\"Washing Machine Repair\",\"Washing Machine Repair\"\n",
      "\"Salon at Home\",\"Salon at Home\"\n",
      "\"ABC\",\"ABC\"\n",
      "\"Salon at home for Women\",\"Salon at home for Women\"\n",
      "\"AC Service and Repair\",\"AC Service and Repair\"\n",
      "\"Sofa Cleaning\",\"Sofa Cleaning\"\n",
      "\"Men's Haircut & Grooming\",\"Men's Haircut & Grooming\"\n",
      "\"Chimney and Hob Repair\",\"Chimney and Hob Repair\"\n",
      "\"Event Photographer\",\"Event Photographer\"\n",
      "\"Fitness Trainer at Home\",\"Fitness Trainer at Home\"\n",
      "\"Air Cooler Repair\",\"Air Cooler Repair\"\n",
      "\"Electricians\",\"Electricians\"\n",
      "\"Laptop Repair\",\"Laptop Repair\"\n",
      "\"Divorce Lawyer\",\"Divorce Lawyer\"\n",
      "\"Plans and Designs\",\"Plans and Designs\"\n",
      "\"iPhone, iPad, Mac Repair\",\"iPhone, iPad, Mac Repair\"\n",
      "\"Massage for Women\",\"Massage for Women\"\n",
      "\"Refrigerator Repair\",\"Refrigerator Repair\"\n",
      "\"Fix it Thursdays\",\"Fix it Thursdays\"\n",
      "\"Geyser   Water Heater Repair\",\"Geyser   Water Heater Repair\"\n"
     ]
    }
   ],
   "source": [
    "for s in serv:\n",
    "    s = s.replace('/',' ')\n",
    "    print('\"{0}\",\"{1}\"'.format(s,s))"
   ]
  },
  {
   "cell_type": "code",
   "execution_count": 3,
   "metadata": {
    "collapsed": true
   },
   "outputs": [],
   "source": [
    "r = requests.get(url = URL) "
   ]
  },
  {
   "cell_type": "code",
   "execution_count": 4,
   "metadata": {
    "collapsed": false
   },
   "outputs": [
    {
     "data": {
      "text/plain": [
       "{'isError': False,\n",
       " 'success': {'data': [{'city_key': 'city_mumbai_v2',\n",
       "    'display_name': 'ABC',\n",
       "    'font_name': ':',\n",
       "    'key_name': 'uc_mumo_temp_ondemand'},\n",
       "   {'city_key': 'city_mumbai_v2',\n",
       "    'display_name': 'AC Service and Repair',\n",
       "    'font_name': 'S',\n",
       "    'key_name': 'ac_service_repair',\n",
       "    'url': '/mumbai-ac-service-repair'},\n",
       "   {'city_key': 'city_mumbai_v2',\n",
       "    'display_name': 'Airtel Broadband Services',\n",
       "    'font_name': 'y',\n",
       "    'key_name': 'airtel_broadband'},\n",
       "   {'city_key': 'city_mumbai_v2',\n",
       "    'display_name': 'Chartered Accountant',\n",
       "    'font_name': 'v',\n",
       "    'key_name': 'chartered_accountants'},\n",
       "   {'city_key': 'city_mumbai_v2',\n",
       "    'display_name': 'Chimney and Hob Repair',\n",
       "    'font_name': ':',\n",
       "    'key_name': 'chimney_and_hob_repair',\n",
       "    'url': '/mumbai-chimney-and-hob-repair'},\n",
       "   {'city_key': 'city_mumbai_v2',\n",
       "    'display_name': 'Salon at home for Women',\n",
       "    'font_name': '7',\n",
       "    'key_name': 'salon_at_home',\n",
       "    'url': '/mumbai-salon-at-home'},\n",
       "   {'city_key': 'city_mumbai_v2',\n",
       "    'display_name': 'Makeup and Hairstyling',\n",
       "    'font_name': 'L',\n",
       "    'key_name': 'party_makeup_artist',\n",
       "    'url': '/mumbai-party-makeup-artist'},\n",
       "   {'city_key': 'city_mumbai_v2',\n",
       "    'display_name': 'Yoga Trainer at Home',\n",
       "    'font_name': 'R',\n",
       "    'key_name': 'yoga_at_home',\n",
       "    'url': '/mumbai-yoga-at-home'},\n",
       "   {'city_key': 'city_mumbai_v2',\n",
       "    'display_name': 'CCTV Cameras and Installation',\n",
       "    'font_name': '&#xe016;',\n",
       "    'key_name': 'cctv_dealers',\n",
       "    'url': '/mumbai-cctv-dealers'},\n",
       "   {'city_key': 'city_mumbai_v2',\n",
       "    'display_name': 'Fitness Trainer at Home',\n",
       "    'font_name': 'A',\n",
       "    'key_name': 'fitness_trainer_at_home',\n",
       "    'url': '/mumbai-fitness-trainer-at-home'},\n",
       "   {'city_key': 'city_mumbai_v2',\n",
       "    'display_name': 'IKEA Furniture Assembly',\n",
       "    'font_name': '&#xe0e1;',\n",
       "    'key_name': 'ikea_furniture_assembly'},\n",
       "   {'city_key': 'city_mumbai_v2',\n",
       "    'display_name': 'Packers & Movers',\n",
       "    'font_name': 'O',\n",
       "    'key_name': 'packer_mover_local',\n",
       "    'url': '/mumbai-packer-mover-local'},\n",
       "   {'city_key': 'city_mumbai_v2',\n",
       "    'display_name': 'CA for Tax Registration',\n",
       "    'font_name': ':',\n",
       "    'key_name': 'tax_registration',\n",
       "    'url': '/mumbai-tax-registration'},\n",
       "   {'city_key': 'city_mumbai_v2',\n",
       "    'display_name': 'Laptop Repair',\n",
       "    'font_name': 'I',\n",
       "    'key_name': 'laptop_repair',\n",
       "    'url': '/mumbai-laptop-repair'},\n",
       "   {'city_key': 'city_mumbai_v2',\n",
       "    'display_name': 'Divorce Lawyer',\n",
       "    'font_name': '&#xe088;',\n",
       "    'key_name': 'divorcelawyers'},\n",
       "   {'city_key': 'city_mumbai_v2',\n",
       "    'display_name': 'CA/CS for Company Registration',\n",
       "    'font_name': 'v',\n",
       "    'key_name': 'company_registration',\n",
       "    'url': '/mumbai-company-registration'},\n",
       "   {'city_key': 'city_mumbai_v2',\n",
       "    'display_name': 'CA for Small Business',\n",
       "    'font_name': 'v',\n",
       "    'key_name': 'ca_small_business',\n",
       "    'url': '/mumbai-ca-small-business'},\n",
       "   {'city_key': 'city_mumbai_v2',\n",
       "    'display_name': 'Lawyer',\n",
       "    'font_name': 'K',\n",
       "    'key_name': 'lawyers',\n",
       "    'url': '/mumbai-lawyers'},\n",
       "   {'city_key': 'city_mumbai_v2',\n",
       "    'display_name': 'Maternity Photographer',\n",
       "    'font_name': '0',\n",
       "    'key_name': 'maternity_photographers',\n",
       "    'url': '/mumbai-maternity-photographers'},\n",
       "   {'city_key': 'city_mumbai_v2',\n",
       "    'display_name': 'Massage for Men',\n",
       "    'font_name': ',',\n",
       "    'key_name': 'massage_for_men'}],\n",
       "  'message': 'Successfully Done!!'}}"
      ]
     },
     "execution_count": 4,
     "metadata": {},
     "output_type": "execute_result"
    }
   ],
   "source": [
    "r.json()"
   ]
  },
  {
   "cell_type": "code",
   "execution_count": 2,
   "metadata": {
    "collapsed": true
   },
   "outputs": [],
   "source": [
    "data = {'queryText': 'AC repair in Delhi', 'action': 'Purpose.Purpose-custom', 'parameters': {'geo-city': 'Delhi', 'Service': 'AC'}, 'allRequiredParamsPresent': True, 'fulfillmentMessages': [{'text': {'text': ['']}}], 'outputContexts': [{'name': 'projects/urbanclap-ecvjtu/agent/sessions/d38c3a20-66c1-a520-c434-af0dc2076cc3/contexts/awaiting_response', 'lifespanCount': 5, 'parameters': {'geo-city': 'Delhi', 'geo-city.original': 'Delhi', 'Service': 'AC', 'Service.original': 'AC'}}, {'name': 'projects/urbanclap-ecvjtu/agent/sessions/d38c3a20-66c1-a520-c434-af0dc2076cc3/contexts/purpose-followup', 'lifespanCount': 1, 'parameters': {'geo-city': 'Delhi', 'geo-city.original': 'Delhi', 'Service': 'AC', 'Service.original': 'AC'}}], 'intent': {'name': 'projects/urbanclap-ecvjtu/agent/intents/60c0a193-1881-4110-9200-c8bf2fc177c0', 'displayName': 'Purpose - custom'}, 'intentDetectionConfidence': 0.51472574, 'languageCode': 'en'}"
   ]
  },
  {
   "cell_type": "code",
   "execution_count": 7,
   "metadata": {
    "collapsed": false
   },
   "outputs": [],
   "source": [
    "city = data['parameters']['geo-city']"
   ]
  },
  {
   "cell_type": "code",
   "execution_count": 51,
   "metadata": {
    "collapsed": false
   },
   "outputs": [],
   "source": [
    "def jaccard_similarity(list1, list2):\n",
    "    list1 = list(list1.lower())\n",
    "    list2 = list(list2.lower())\n",
    "    intersection = len(set(list1).intersection(list2))\n",
    "    union = len(set(list1)) + len(set(list2)) - intersection\n",
    "    return intersection / union\n",
    "\n",
    "\n",
    "def find_city(city,location_info):\n",
    "    max_score = 0\n",
    "    max_location = \"\"\n",
    "    for location in location_info:\n",
    "        score = jaccard_similarity(location['name'],city)\n",
    "        location['Similarity_score'] = score\n",
    "        if score>max_score:\n",
    "            max_score = score\n",
    "            max_location = location\n",
    "        else:\n",
    "            continue\n",
    "    return location_info, max_location\n",
    "\n",
    "def find_service(service,max_location):\n",
    "    URL = URL_TEMPLATE.format(max_location['value'])\n",
    "    r = requests.get(url = URL)\n",
    "    r_data = r.json()\n",
    "    r_data = r_data[\"success\"][\"data\"]\n",
    "    services = [x['key_name'] for x in r_data]\n",
    "    max_score = 0\n",
    "    max_service = \"\"\n",
    "    for serv in services:\n",
    "        score = jaccard_similarity(serv,city)\n",
    "        if score>max_score:\n",
    "            max_score = score\n",
    "            serivce_selected = serv\n",
    "        else:\n",
    "            continue\n",
    "    return serivce_selected"
   ]
  },
  {
   "cell_type": "code",
   "execution_count": 52,
   "metadata": {
    "collapsed": false
   },
   "outputs": [
    {
     "data": {
      "text/plain": [
       "{'Similarity_score': 0.5555555555555556, 'name': 'Delhi NCR', 'value': 'delhi'}"
      ]
     },
     "execution_count": 52,
     "metadata": {},
     "output_type": "execute_result"
    }
   ],
   "source": [
    "max_location"
   ]
  },
  {
   "cell_type": "code",
   "execution_count": 55,
   "metadata": {
    "collapsed": false
   },
   "outputs": [
    {
     "ename": "SyntaxError",
     "evalue": "'return' outside function (<ipython-input-55-d42f41f8d6d3>, line 3)",
     "output_type": "error",
     "traceback": [
      "\u001b[0;36m  File \u001b[0;32m\"<ipython-input-55-d42f41f8d6d3>\"\u001b[0;36m, line \u001b[0;32m3\u001b[0m\n\u001b[0;31m    return \"We are happy to help you with {0} at you city of {1}\".format(service_selected,max_location['name'])\u001b[0m\n\u001b[0m                                                                                                               ^\u001b[0m\n\u001b[0;31mSyntaxError\u001b[0m\u001b[0;31m:\u001b[0m 'return' outside function\n"
     ]
    }
   ],
   "source": [
    "location_info, max_location = find_city(data['parameters']['geo-city'],location_info)\n",
    "service_selected = find_service(data['parameters']['Service'],max_location)\n",
    "return \"We are happy to help you with {0} at you city of {1}\".format(service_selected,max_location['name'])"
   ]
  },
  {
   "cell_type": "code",
   "execution_count": 9,
   "metadata": {
    "collapsed": false
   },
   "outputs": [
    {
     "ename": "TypeError",
     "evalue": "find_service() takes 2 positional arguments but 3 were given",
     "output_type": "error",
     "traceback": [
      "\u001b[0;31m---------------------------------------------------------------------------\u001b[0m",
      "\u001b[0;31mTypeError\u001b[0m                                 Traceback (most recent call last)",
      "\u001b[0;32m<ipython-input-9-f0424502784b>\u001b[0m in \u001b[0;36m<module>\u001b[0;34m()\u001b[0m\n\u001b[1;32m     43\u001b[0m     \u001b[0;32mreturn\u001b[0m \u001b[0;34m\"We are happy to help you with {0} at you city of {1}\"\u001b[0m\u001b[0;34m.\u001b[0m\u001b[0mformat\u001b[0m\u001b[0;34m(\u001b[0m\u001b[0mservice_selected\u001b[0m\u001b[0;34m,\u001b[0m\u001b[0mmax_location\u001b[0m\u001b[0;34m[\u001b[0m\u001b[0;34m'name'\u001b[0m\u001b[0;34m]\u001b[0m\u001b[0;34m)\u001b[0m\u001b[0;34m\u001b[0m\u001b[0m\n\u001b[1;32m     44\u001b[0m \u001b[0;34m\u001b[0m\u001b[0m\n\u001b[0;32m---> 45\u001b[0;31m \u001b[0mservice_center\u001b[0m\u001b[0;34m(\u001b[0m\u001b[0mdata\u001b[0m\u001b[0;34m,\u001b[0m\u001b[0mlocation_info\u001b[0m\u001b[0;34m)\u001b[0m\u001b[0;34m\u001b[0m\u001b[0m\n\u001b[0m",
      "\u001b[0;32m<ipython-input-9-f0424502784b>\u001b[0m in \u001b[0;36mservice_center\u001b[0;34m(data, location_info)\u001b[0m\n\u001b[1;32m     40\u001b[0m     \u001b[0mURL_TEMPLATE\u001b[0m \u001b[0;34m=\u001b[0m \u001b[0;34m\"https://www.urbanclap.com/api/v1/customercategories/search/category/city_{0}_v2/a\"\u001b[0m\u001b[0;34m\u001b[0m\u001b[0m\n\u001b[1;32m     41\u001b[0m     \u001b[0mlocation_info\u001b[0m\u001b[0;34m,\u001b[0m \u001b[0mmax_location\u001b[0m \u001b[0;34m=\u001b[0m \u001b[0mfind_city\u001b[0m\u001b[0;34m(\u001b[0m\u001b[0mdata\u001b[0m\u001b[0;34m[\u001b[0m\u001b[0;34m'parameters'\u001b[0m\u001b[0;34m]\u001b[0m\u001b[0;34m[\u001b[0m\u001b[0;34m'geo-city'\u001b[0m\u001b[0;34m]\u001b[0m\u001b[0;34m,\u001b[0m\u001b[0mlocation_info\u001b[0m\u001b[0;34m)\u001b[0m\u001b[0;34m\u001b[0m\u001b[0m\n\u001b[0;32m---> 42\u001b[0;31m     \u001b[0mservice_selected\u001b[0m \u001b[0;34m=\u001b[0m \u001b[0mfind_service\u001b[0m\u001b[0;34m(\u001b[0m\u001b[0mdata\u001b[0m\u001b[0;34m[\u001b[0m\u001b[0;34m'parameters'\u001b[0m\u001b[0;34m]\u001b[0m\u001b[0;34m[\u001b[0m\u001b[0;34m'Service'\u001b[0m\u001b[0;34m]\u001b[0m\u001b[0;34m,\u001b[0m\u001b[0mmax_location\u001b[0m\u001b[0;34m,\u001b[0m\u001b[0mURL_TEMPLATE\u001b[0m\u001b[0;34m)\u001b[0m\u001b[0;34m\u001b[0m\u001b[0m\n\u001b[0m\u001b[1;32m     43\u001b[0m     \u001b[0;32mreturn\u001b[0m \u001b[0;34m\"We are happy to help you with {0} at you city of {1}\"\u001b[0m\u001b[0;34m.\u001b[0m\u001b[0mformat\u001b[0m\u001b[0;34m(\u001b[0m\u001b[0mservice_selected\u001b[0m\u001b[0;34m,\u001b[0m\u001b[0mmax_location\u001b[0m\u001b[0;34m[\u001b[0m\u001b[0;34m'name'\u001b[0m\u001b[0;34m]\u001b[0m\u001b[0;34m)\u001b[0m\u001b[0;34m\u001b[0m\u001b[0m\n\u001b[1;32m     44\u001b[0m \u001b[0;34m\u001b[0m\u001b[0m\n",
      "\u001b[0;31mTypeError\u001b[0m: find_service() takes 2 positional arguments but 3 were given"
     ]
    }
   ],
   "source": [
    "def jaccard_similarity(list1, list2):\n",
    "    list1 = list(list1.lower())\n",
    "    list2 = list(list2.lower())\n",
    "    intersection = len(set(list1).intersection(list2))\n",
    "    union = len(set(list1)) + len(set(list2)) - intersection\n",
    "    return intersection / union\n",
    "\n",
    "\n",
    "def find_city(city,location_info):\n",
    "    max_score = 0\n",
    "    max_location = \"\"\n",
    "    for location in location_info:\n",
    "        score = jaccard_similarity(location['name'],city)\n",
    "        location['Similarity_score'] = score\n",
    "        if score>max_score:\n",
    "            max_score = score\n",
    "            max_location = location\n",
    "        else:\n",
    "            continue\n",
    "    return location_info, max_location\n",
    "\n",
    "def find_service(service,max_location):\n",
    "    URL = URL_TEMPLATE.format(max_location['value'])\n",
    "    r = requests.get(url = URL)\n",
    "    r_data = r.json()\n",
    "    r_data = r_data[\"success\"][\"data\"]\n",
    "    services = [x['key_name'] for x in r_data]\n",
    "    max_score = 0\n",
    "    max_service = \"\"\n",
    "    for serv in services:\n",
    "        score = jaccard_similarity(serv,city)\n",
    "        if score>max_score:\n",
    "            max_score = score\n",
    "            serivce_selected = serv\n",
    "        else:\n",
    "            continue\n",
    "    return serivce_selected\n",
    "\n",
    "def service_center(data,location_info):\n",
    "    URL_TEMPLATE = \"https://www.urbanclap.com/api/v1/customercategories/search/category/city_{0}_v2/a\"\n",
    "    location_info, max_location = find_city(data['parameters']['geo-city'],location_info)\n",
    "    service_selected = find_service(data['parameters']['Service'],max_location,URL_TEMPLATE)\n",
    "    return \"We are happy to help you with {0} at you city of {1}\".format(service_selected,max_location['name'])\n",
    "\n",
    "service_center(data,location_info)"
   ]
  },
  {
   "cell_type": "code",
   "execution_count": null,
   "metadata": {
    "collapsed": true
   },
   "outputs": [],
   "source": []
  }
 ],
 "metadata": {
  "anaconda-cloud": {},
  "kernelspec": {
   "display_name": "Python [default]",
   "language": "python",
   "name": "python3"
  },
  "language_info": {
   "codemirror_mode": {
    "name": "ipython",
    "version": 3
   },
   "file_extension": ".py",
   "mimetype": "text/x-python",
   "name": "python",
   "nbconvert_exporter": "python",
   "pygments_lexer": "ipython3",
   "version": "3.5.2"
  }
 },
 "nbformat": 4,
 "nbformat_minor": 1
}
