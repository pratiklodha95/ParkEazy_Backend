{
 "cells": [
  {
   "cell_type": "code",
   "execution_count": 1,
   "metadata": {
    "collapsed": false
   },
   "outputs": [],
   "source": [
    "import urllib.error\n",
    "from urllib.request import urlopen, Request\n",
    "\n",
    "def url_download(url, user_agent=\"wswp\" ,num_retries = 0):\n",
    "    print(\"Downloading url :\" + str(url))\n",
    "    headers = {'User-Agent': 'Mozilla/5.0'}\n",
    "    request = Request(url, headers=headers)\n",
    "    try:\n",
    "        html = urlopen(request).read()\n",
    "        html = html.decode('utf-8')\n",
    "    except urllib.error.HTTPError as e:\n",
    "        print('HTTPError: {}'.format(e.code))\n",
    "        if (e.code >= 500 and e.code < 600 and num_retries>0):\n",
    "            html = url_download(url,num_retries-1)\n",
    "        else:\n",
    "            html = None\n",
    "    except urllib.error.URLError as e:\n",
    "        print('URLError: {}'.format(e.reason))\n",
    "        html = None\n",
    "    except SocketError as e:\n",
    "        print('SocketError: {}'.format(e))\n",
    "        html = None\n",
    "    except:\n",
    "        print(e)\n",
    "    return html"
   ]
  },
  {
   "cell_type": "code",
   "execution_count": 2,
   "metadata": {
    "collapsed": false
   },
   "outputs": [
    {
     "name": "stdout",
     "output_type": "stream",
     "text": [
      "Downloading url :https://www.urbanclap.com/mumbai-ac-service-repair\n"
     ]
    }
   ],
   "source": [
    "html = url_download(\"https://www.urbanclap.com/mumbai-ac-service-repair\")"
   ]
  },
  {
   "cell_type": "code",
   "execution_count": 3,
   "metadata": {
    "collapsed": true
   },
   "outputs": [],
   "source": [
    "from bs4 import BeautifulSoup\n",
    "soup = BeautifulSoup(html,'html.parser')"
   ]
  },
  {
   "cell_type": "code",
   "execution_count": 7,
   "metadata": {
    "collapsed": false
   },
   "outputs": [],
   "source": [
    "a = soup.find('div',attrs={'id':'firstQuestion'})"
   ]
  },
  {
   "cell_type": "code",
   "execution_count": 14,
   "metadata": {
    "collapsed": false
   },
   "outputs": [],
   "source": [
    "b = a.findAll('button')"
   ]
  },
  {
   "cell_type": "code",
   "execution_count": 15,
   "metadata": {
    "collapsed": false
   },
   "outputs": [
    {
     "name": "stdout",
     "output_type": "stream",
     "text": [
      "AC Servicing\n",
      "AC not cooling/ Repair\n",
      "AC Installation/ Un-Installation\n"
     ]
    }
   ],
   "source": [
    "for element in b:\n",
    "    print(element.get_text())"
   ]
  },
  {
   "cell_type": "code",
   "execution_count": null,
   "metadata": {
    "collapsed": true
   },
   "outputs": [],
   "source": []
  }
 ],
 "metadata": {
  "anaconda-cloud": {},
  "kernelspec": {
   "display_name": "Python [default]",
   "language": "python",
   "name": "python3"
  },
  "language_info": {
   "codemirror_mode": {
    "name": "ipython",
    "version": 3
   },
   "file_extension": ".py",
   "mimetype": "text/x-python",
   "name": "python",
   "nbconvert_exporter": "python",
   "pygments_lexer": "ipython3",
   "version": "3.5.2"
  }
 },
 "nbformat": 4,
 "nbformat_minor": 1
}
