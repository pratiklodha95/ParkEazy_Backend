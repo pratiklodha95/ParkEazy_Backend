{
 "cells": [
  {
   "cell_type": "code",
   "execution_count": 1,
   "metadata": {},
   "outputs": [],
   "source": [
    "import urllib.error\n",
    "from urllib.request import urlopen, Request\n",
    "\n",
    "def url_download(url, user_agent=\"wswp\" ,num_retries = 0):\n",
    "    print(\"Downloading url :\" + str(url))\n",
    "    headers = {'User-Agent': 'Mozilla/5.0'}\n",
    "    request = Request(url, headers=headers)\n",
    "    try:\n",
    "        html = urlopen(request).read()\n",
    "        html = html.decode('utf-8')\n",
    "    except urllib.error.HTTPError as e:\n",
    "        print('HTTPError: {}'.format(e.code))\n",
    "        if (e.code >= 500 and e.code < 600 and num_retries>0):\n",
    "            html = url_download(url,num_retries-1)\n",
    "        else:\n",
    "            html = None\n",
    "    except urllib.error.URLError as e:\n",
    "        print('URLError: {}'.format(e.reason))\n",
    "        html = None\n",
    "    except SocketError as e:\n",
    "        print('SocketError: {}'.format(e))\n",
    "        html = None\n",
    "    except:\n",
    "        print(e)\n",
    "    return html"
   ]
  },
  {
   "cell_type": "code",
   "execution_count": 2,
   "metadata": {},
   "outputs": [
    {
     "name": "stdout",
     "output_type": "stream",
     "text": [
      "Downloading url :https://www.urbanclap.com/mumbai-ac-service-repair\n"
     ]
    }
   ],
   "source": [
    "html = url_download(\"https://www.urbanclap.com/mumbai-ac-service-repair\")"
   ]
  },
  {
   "cell_type": "code",
   "execution_count": 3,
   "metadata": {},
   "outputs": [],
   "source": [
    "from bs4 import BeautifulSoup\n",
    "soup = BeautifulSoup(html,'html.parser')"
   ]
  },
  {
   "cell_type": "code",
   "execution_count": 4,
   "metadata": {},
   "outputs": [],
   "source": [
    "a = soup.find('div',attrs={'id':'firstQuestion'})"
   ]
  },
  {
   "cell_type": "code",
   "execution_count": 5,
   "metadata": {},
   "outputs": [],
   "source": [
    "b = a.findAll('button')"
   ]
  },
  {
   "cell_type": "code",
   "execution_count": 6,
   "metadata": {},
   "outputs": [
    {
     "name": "stdout",
     "output_type": "stream",
     "text": [
      "AC Servicing\n",
      "AC not cooling/ Repair\n",
      "AC Installation/ Un-Installation\n"
     ]
    }
   ],
   "source": [
    "for element in b:\n",
    "    print(element.get_text())"
   ]
  },
  {
   "cell_type": "markdown",
   "metadata": {},
   "source": [
    "## Scraping the complete data"
   ]
  },
  {
   "cell_type": "code",
   "execution_count": 4,
   "metadata": {},
   "outputs": [],
   "source": [
    "location_info=[{'name': 'Ahmedabad', 'value': 'ahmedabad'}, {'name': 'Bangalore', 'value': 'bangalore'}, {'name': 'Chennai', 'value': 'chennai'}, {'name': 'Delhi NCR', 'value': 'delhi'}, {'name': 'Chandigarh Tricity', 'value': 'chandigarh'}, {'name': 'Jaipur', 'value': 'jaipur'}, {'name': 'Dubai', 'value': 'dubai'}, {'name': 'Abu Dhabi', 'value': 'abudhabi'}, {'name': 'Hyderabad', 'value': 'hyderabad'}, {'name': 'Kolkata', 'value': 'kolkata'}, {'name': 'Mumbai', 'value': 'mumbai'}, {'name': 'Pune', 'value': 'pune'}]\n",
    "allData = []"
   ]
  },
  {
   "cell_type": "code",
   "execution_count": 64,
   "metadata": {},
   "outputs": [],
   "source": [
    "import requests\n",
    "\n",
    "def extract_info(data):\n",
    "    question = []\n",
    "    for q in data:\n",
    "        try:\n",
    "            details = {'title':q['title'],'meta_data':q['meta_data']['data']}\n",
    "        except:\n",
    "            details = {}\n",
    "        question.append(details)\n",
    "    return question\n",
    "\n",
    "def get_details_of_service_data(key_name,city_name):\n",
    "    url = \"https://www.urbanclap.com/api/v1/categoryquestions/get\"\n",
    "\n",
    "    payload = \"device_id=ucu7db60-bd56e9f94c-aa23-9d9a-a7ab-f6f8813d23-1564129250861&city_key={0}&category_key_name={1}&app_version=4.12.12&device=web&is_auto=true\".format(city_name,key_name)\n",
    "    headers = {\n",
    "    'Content-Type': \"application/x-www-form-urlencoded\",\n",
    "    'User-Agent': \"PostmanRuntime/7.15.2\",\n",
    "    'Accept': \"*/*\",\n",
    "    'Cache-Control': \"no-cache\",\n",
    "    'Postman-Token': \"fdf674c1-6f13-46f0-a186-97552cdd5df5,9feb8c82-71eb-4f58-b4bf-2c2b87c7c44f\",\n",
    "    'Host': \"www.urbanclap.com\",\n",
    "    'Cookie': \"__cfduid=da1f11335a25c1b20e81c8e7ac6d1b1391564132893\",\n",
    "    'Accept-Encoding': \"gzip, deflate\",\n",
    "    'Content-Length': \"176\",\n",
    "    'Connection': \"keep-alive\",\n",
    "    'cache-control': \"no-cache\"\n",
    "    }\n",
    "\n",
    "    response = requests.request(\"POST\", url, data=payload, headers=headers)\n",
    "    \n",
    "    try:\n",
    "        r=response.json()['success']['data']['questions']\n",
    "        r = extract_info(r)\n",
    "    except:\n",
    "        r=-1\n",
    "        print(city_name,key_name)\n",
    "    return r\n",
    "\n",
    "def get_service_data(d):\n",
    "    city_key = d[\"city_key\"]\n",
    "    service_details = {\"key_name\": d['key_name'], \"display_name\": d['display_name'],\"city_key\":city_key}\n",
    "    try:\n",
    "        service_details['url'] = d['url']\n",
    "    except:\n",
    "        service_details['url'] = None\n",
    "        \n",
    "    service_details[\"serivce_detail_info\"] = get_details_of_service_data(d['key_name'],city_key)\n",
    "    \n",
    "    return service_details\n",
    "\n",
    "def get_location_services(city_name):\n",
    "    url = \"https://www.urbanclap.com/api/v1/customercategories/search/category/city_{0}_v2/a\".format(city_name)\n",
    "    r = requests.get(url = url)\n",
    "    data = r.json()\n",
    "    data = data['success']['data']\n",
    "    services = [get_service_data(d) for d in data]\n",
    "    return services"
   ]
  },
  {
   "cell_type": "code",
   "execution_count": 71,
   "metadata": {},
   "outputs": [
    {
     "name": "stdout",
     "output_type": "stream",
     "text": [
      "city_mumbai_v2 uc_mumo_temp_ondemand\n"
     ]
    }
   ],
   "source": [
    "full_data = []\n",
    "for location in location_info:\n",
    "    city_name = location['value']\n",
    "    details = {\"city_name\" : city_name}\n",
    "    services = get_location_services(city_name)\n",
    "    details['services']=services\n",
    "    full_data.append(details)"
   ]
  },
  {
   "cell_type": "code",
   "execution_count": 72,
   "metadata": {},
   "outputs": [],
   "source": [
    "import json\n",
    "with open('UrbanClap_data.json', 'w', encoding='utf-8') as f:\n",
    "    json.dump(full_data, f, ensure_ascii=False, indent=4)"
   ]
  },
  {
   "cell_type": "code",
   "execution_count": 48,
   "metadata": {},
   "outputs": [],
   "source": []
  },
  {
   "cell_type": "code",
   "execution_count": null,
   "metadata": {},
   "outputs": [],
   "source": []
  }
 ],
 "metadata": {
  "kernelspec": {
   "display_name": "Python 3",
   "language": "python",
   "name": "python3"
  },
  "language_info": {
   "codemirror_mode": {
    "name": "ipython",
    "version": 3
   },
   "file_extension": ".py",
   "mimetype": "text/x-python",
   "name": "python",
   "nbconvert_exporter": "python",
   "pygments_lexer": "ipython3",
   "version": "3.7.3"
  }
 },
 "nbformat": 4,
 "nbformat_minor": 2
}
